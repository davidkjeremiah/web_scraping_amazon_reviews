{
 "cells": [
  {
   "cell_type": "markdown",
   "metadata": {},
   "source": [
    "# **Web Scraping - Amazon Customer Reviews**\n",
    "\n",
    "## Objective: \n",
    "* Scrape Amazon Website for Customer Reviews on product: Apple iPhone 11 Pro (256GB) - Space Grey "
   ]
  },
  {
   "cell_type": "markdown",
   "metadata": {},
   "source": [
    "## **Import the necessary libraries**"
   ]
  },
  {
   "cell_type": "code",
   "execution_count": 47,
   "metadata": {},
   "outputs": [],
   "source": [
    "import sys\n",
    "import time\n",
    "from bs4 import BeautifulSoup\n",
    "import requests\n",
    "import re\n",
    "import pycountry # ISO country, subdivision, language, currency\n",
    "from datetime import datetime\n",
    "import pandas as pd"
   ]
  },
  {
   "cell_type": "code",
   "execution_count": 17,
   "metadata": {},
   "outputs": [],
   "source": [
    "try:\n",
    "    # url\n",
    "    url = 'https://www.amazon.in/Apple-iPhone-11-Pro-256GB/product-reviews/B07XVMJF2D/ref=cm_cr_dp_d_show_all_btm?ie=UTF8&reviewerType=all_reviews'     \n",
    "    response=requests.get(url) # this might throw an exception if something goes wrong.\n",
    "\n",
    "except Exception as e:\n",
    "    error_type, error_obj, error_info = sys.exc_info()      \n",
    "    print ('ERROR FOR LINK:',url)                          \n",
    "    print (error_type, 'Line:', error_info.tb_lineno)     \n",
    "                                                 \n",
    "time.sleep(2)\n",
    "\n",
    "# store text/html\n",
    "html = response.text"
   ]
  },
  {
   "cell_type": "code",
   "execution_count": 18,
   "metadata": {},
   "outputs": [
    {
     "data": {
      "text/plain": [
       "True"
      ]
     },
     "execution_count": 18,
     "metadata": {},
     "output_type": "execute_result"
    }
   ],
   "source": [
    "response.ok"
   ]
  },
  {
   "cell_type": "markdown",
   "metadata": {},
   "source": [
    "### **Parse html code**"
   ]
  },
  {
   "cell_type": "code",
   "execution_count": 20,
   "metadata": {},
   "outputs": [],
   "source": [
    "# parse html code\n",
    "soup = BeautifulSoup(html, 'html.parser')"
   ]
  },
  {
   "cell_type": "code",
   "execution_count": 22,
   "metadata": {},
   "outputs": [],
   "source": [
    "cus_names = soup.find_all('span', class_='a-profile-name')"
   ]
  },
  {
   "cell_type": "markdown",
   "metadata": {},
   "source": [
    "### **Customer Profile Names**"
   ]
  },
  {
   "cell_type": "code",
   "execution_count": 79,
   "metadata": {},
   "outputs": [],
   "source": [
    "# Obtain Customer Profile Names\n",
    "cus_names = soup.find_all('span', class_='a-profile-name')\n",
    "\n",
    "# create a list to contain all profile names\n",
    "profile_names = []\n",
    "\n",
    "# iterate through cus_names, and store names in the list created above\n",
    "for name in cus_names:\n",
    "    if name.text.strip() not in profile_names:\n",
    "        profile_names.append(name.text.strip())"
   ]
  },
  {
   "cell_type": "markdown",
   "metadata": {},
   "source": [
    "### **Customer Ratings**"
   ]
  },
  {
   "cell_type": "code",
   "execution_count": 25,
   "metadata": {},
   "outputs": [
    {
     "data": {
      "text/plain": [
       "[4.0, 5.0, 5.0, 3.0, 4.0, 5.0, 4.0, 5.0, 5.0, 4.0]"
      ]
     },
     "execution_count": 25,
     "metadata": {},
     "output_type": "execute_result"
    }
   ],
   "source": [
    "# ratings\n",
    "ratings = soup.find_all('i', attrs={'data-hook':'review-star-rating'})\n",
    "\n",
    "# create a list to contain all profile names\n",
    "cus_ratings = []\n",
    "\n",
    "# iterate through cus_names, and store names in the list created above\n",
    "for r in ratings:\n",
    "    cus_ratings.append(r.text.strip())\n",
    "\n",
    "# isolate the single number rating out of 5\n",
    "# convert to float\n",
    "cus_ratings_num = []\n",
    "for x in cus_ratings:\n",
    "    num = float(re.search('\\d\\.\\d', x).group())\n",
    "    cus_ratings_num.append(num)"
   ]
  },
  {
   "cell_type": "markdown",
   "metadata": {},
   "source": [
    "### **Customer Review Country and Date**"
   ]
  },
  {
   "cell_type": "code",
   "execution_count": 27,
   "metadata": {},
   "outputs": [],
   "source": [
    "# review date\n",
    "review_date= soup.find_all('span', attrs={'data-hook':'review-date'})\n",
    "\n",
    "# iterate through review_date and store country and date in 'cus_review_' list\n",
    "cus_review_ = []\n",
    "for i in review_date:\n",
    "    cus_review_.append(i.text)\n",
    "\n",
    "# obtain names of countries from pycountry libraries\n",
    "country_names = []\n",
    "for names in list(pycountry.countries):\n",
    "    country_names.append(names.name)\n",
    "\n",
    "# Obtain country name from cus_review_ list\n",
    "country_of_review = []\n",
    "for x in cus_review_:\n",
    "    for y in country_names:\n",
    "        if y in x:\n",
    "            country_of_review.append(y)"
   ]
  },
  {
   "cell_type": "code",
   "execution_count": 38,
   "metadata": {},
   "outputs": [],
   "source": [
    "# Obtain data from cus_review_ list\n",
    "cus_date = []\n",
    "for d in cus_review_:\n",
    "    date_data = re.search('\\d.*\\d$', d).group()\n",
    "    format_date = '%d %B %Y'\n",
    "    date = datetime.strptime(date_data, format_date).date().isoformat()\n",
    "    cus_date.append(date)"
   ]
  },
  {
   "cell_type": "markdown",
   "metadata": {},
   "source": [
    "### **Customer Purchase Status**"
   ]
  },
  {
   "cell_type": "code",
   "execution_count": 40,
   "metadata": {},
   "outputs": [],
   "source": [
    "# purchase_status\n",
    "purchase = soup.find_all('span', attrs={'data-hook':'avp-badge'})\n",
    "\n",
    "# store all purchase\n",
    "purchase_status = []\n",
    "for p in purchase:\n",
    "    purchase_status.append(p.text) "
   ]
  },
  {
   "cell_type": "markdown",
   "metadata": {},
   "source": [
    "### **Customer Review Title**"
   ]
  },
  {
   "cell_type": "code",
   "execution_count": 42,
   "metadata": {},
   "outputs": [],
   "source": [
    "# review title\n",
    "review_t = soup.find_all('a', attrs={'data-hook':'review-title'})\n",
    "\n",
    "review_title = []\n",
    "for r in review_t:\n",
    "    review_title.append(r.text.strip())"
   ]
  },
  {
   "cell_type": "markdown",
   "metadata": {},
   "source": [
    "### **Customer Review Body**"
   ]
  },
  {
   "cell_type": "code",
   "execution_count": 44,
   "metadata": {},
   "outputs": [],
   "source": [
    "# review body\n",
    "review_b = soup.find_all('span', attrs={'data-hook':'review-body'})\n",
    "\n",
    "review_body = []\n",
    "for r in review_b:\n",
    "    review_body.append(r.text.strip())"
   ]
  },
  {
   "cell_type": "markdown",
   "metadata": {},
   "source": [
    "## **Create Data Frame for Amazon Customer Reviews**"
   ]
  },
  {
   "cell_type": "code",
   "execution_count": 82,
   "metadata": {},
   "outputs": [
    {
     "data": {
      "text/html": [
       "<div>\n",
       "<style scoped>\n",
       "    .dataframe tbody tr th:only-of-type {\n",
       "        vertical-align: middle;\n",
       "    }\n",
       "\n",
       "    .dataframe tbody tr th {\n",
       "        vertical-align: top;\n",
       "    }\n",
       "\n",
       "    .dataframe thead th {\n",
       "        text-align: right;\n",
       "    }\n",
       "</style>\n",
       "<table border=\"1\" class=\"dataframe\">\n",
       "  <thead>\n",
       "    <tr style=\"text-align: right;\">\n",
       "      <th></th>\n",
       "      <th>Name</th>\n",
       "      <th>Country</th>\n",
       "      <th>Date</th>\n",
       "      <th>Ratings</th>\n",
       "      <th>Purchase_Status</th>\n",
       "      <th>Title</th>\n",
       "      <th>Body</th>\n",
       "    </tr>\n",
       "  </thead>\n",
       "  <tbody>\n",
       "    <tr>\n",
       "      <th>0</th>\n",
       "      <td>Bhagwant Patil</td>\n",
       "      <td>India</td>\n",
       "      <td>2021-04-02</td>\n",
       "      <td>4.0</td>\n",
       "      <td>Verified Purchase</td>\n",
       "      <td>Great iPhone but overpriced.</td>\n",
       "      <td>I'm writing this review after 1 month of use.L...</td>\n",
       "    </tr>\n",
       "    <tr>\n",
       "      <th>1</th>\n",
       "      <td>Aradhya.inc</td>\n",
       "      <td>India</td>\n",
       "      <td>2019-10-09</td>\n",
       "      <td>5.0</td>\n",
       "      <td>Verified Purchase</td>\n",
       "      <td>Great camera faster face id</td>\n",
       "      <td>Short: Go for it if you can afford.TL;DR;I've ...</td>\n",
       "    </tr>\n",
       "    <tr>\n",
       "      <th>2</th>\n",
       "      <td>Nomadic Nordic</td>\n",
       "      <td>India</td>\n",
       "      <td>2021-06-07</td>\n",
       "      <td>5.0</td>\n",
       "      <td>Verified Purchase</td>\n",
       "      <td>Precise in every dimension.</td>\n",
       "      <td>1. Box cartonComes with the plastic outer cove...</td>\n",
       "    </tr>\n",
       "    <tr>\n",
       "      <th>3</th>\n",
       "      <td>Deepak</td>\n",
       "      <td>India</td>\n",
       "      <td>2019-10-04</td>\n",
       "      <td>3.0</td>\n",
       "      <td>Verified Purchase</td>\n",
       "      <td>Upto the Mark but not too much change &amp; Batter...</td>\n",
       "      <td>I am always being fan of iOS &amp; Apple Products....</td>\n",
       "    </tr>\n",
       "    <tr>\n",
       "      <th>4</th>\n",
       "      <td>Farhad Tarapore</td>\n",
       "      <td>India</td>\n",
       "      <td>2020-03-13</td>\n",
       "      <td>4.0</td>\n",
       "      <td>Verified Purchase</td>\n",
       "      <td>Superb little package (11 Pro)</td>\n",
       "      <td>What I love:1. Amazing battery life - lasts me...</td>\n",
       "    </tr>\n",
       "  </tbody>\n",
       "</table>\n",
       "</div>"
      ],
      "text/plain": [
       "              Name Country        Date  Ratings    Purchase_Status  \\\n",
       "0   Bhagwant Patil   India  2021-04-02      4.0  Verified Purchase   \n",
       "1      Aradhya.inc   India  2019-10-09      5.0  Verified Purchase   \n",
       "2   Nomadic Nordic   India  2021-06-07      5.0  Verified Purchase   \n",
       "3           Deepak   India  2019-10-04      3.0  Verified Purchase   \n",
       "4  Farhad Tarapore   India  2020-03-13      4.0  Verified Purchase   \n",
       "\n",
       "                                               Title  \\\n",
       "0                       Great iPhone but overpriced.   \n",
       "1                        Great camera faster face id   \n",
       "2                        Precise in every dimension.   \n",
       "3  Upto the Mark but not too much change & Batter...   \n",
       "4                     Superb little package (11 Pro)   \n",
       "\n",
       "                                                Body  \n",
       "0  I'm writing this review after 1 month of use.L...  \n",
       "1  Short: Go for it if you can afford.TL;DR;I've ...  \n",
       "2  1. Box cartonComes with the plastic outer cove...  \n",
       "3  I am always being fan of iOS & Apple Products....  \n",
       "4  What I love:1. Amazing battery life - lasts me...  "
      ]
     },
     "execution_count": 82,
     "metadata": {},
     "output_type": "execute_result"
    }
   ],
   "source": [
    "# complete data\n",
    "data = {'Name':profile_names, 'Country':country_of_review, 'Date':cus_date, 'Ratings':cus_ratings_num, 'Purchase_Status':purchase_status, 'Title':review_title, 'Body':review_body}\n",
    "\n",
    "# create data frame\n",
    "# input column names and records\n",
    "amz_cus_reviews = pd.DataFrame(data)\n",
    "\n",
    "# inspect dataframe\n",
    "amz_cus_reviews.head()"
   ]
  }
 ],
 "metadata": {
  "kernelspec": {
   "display_name": "Python 3.10.6 64-bit",
   "language": "python",
   "name": "python3"
  },
  "language_info": {
   "codemirror_mode": {
    "name": "ipython",
    "version": 3
   },
   "file_extension": ".py",
   "mimetype": "text/x-python",
   "name": "python",
   "nbconvert_exporter": "python",
   "pygments_lexer": "ipython3",
   "version": "3.10.6"
  },
  "vscode": {
   "interpreter": {
    "hash": "63963b3f4c440940f0b94a3100916033a226cb4f45979123153792d60aa56d6a"
   }
  }
 },
 "nbformat": 4,
 "nbformat_minor": 2
}
